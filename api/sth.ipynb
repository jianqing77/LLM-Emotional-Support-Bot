{
 "cells": [
  {
   "cell_type": "code",
   "execution_count": 10,
   "metadata": {},
   "outputs": [
    {
     "data": {
      "text/html": [
       "<div>\n",
       "<style scoped>\n",
       "    .dataframe tbody tr th:only-of-type {\n",
       "        vertical-align: middle;\n",
       "    }\n",
       "\n",
       "    .dataframe tbody tr th {\n",
       "        vertical-align: top;\n",
       "    }\n",
       "\n",
       "    .dataframe thead th {\n",
       "        text-align: right;\n",
       "    }\n",
       "</style>\n",
       "<table border=\"1\" class=\"dataframe\">\n",
       "  <thead>\n",
       "    <tr style=\"text-align: right;\">\n",
       "      <th></th>\n",
       "      <th>Unnamed: 0</th>\n",
       "      <th>Unnamed: 1</th>\n",
       "      <th>Confusional Arousals with potential comorbidity of Tourette Syndrome and environmental influence of Irregular Sleep</th>\n",
       "      <th>Depression</th>\n",
       "      <th>Isolation</th>\n",
       "      <th>Major Depressive Disorder</th>\n",
       "      <th>OCD</th>\n",
       "      <th>Obsessive</th>\n",
       "      <th>Obsessive–Compulsive Disorder (OCD)</th>\n",
       "      <th>Procrastination and Avoidance</th>\n",
       "      <th>Stress or Lack of Structure</th>\n",
       "    </tr>\n",
       "  </thead>\n",
       "  <tbody>\n",
       "    <tr>\n",
       "      <th>0</th>\n",
       "      <td>gpt-4</td>\n",
       "      <td>0</td>\n",
       "      <td>0</td>\n",
       "      <td>0</td>\n",
       "      <td>1</td>\n",
       "      <td>2</td>\n",
       "      <td>0</td>\n",
       "      <td>1</td>\n",
       "      <td>0</td>\n",
       "      <td>1</td>\n",
       "      <td>0</td>\n",
       "    </tr>\n",
       "    <tr>\n",
       "      <th>1</th>\n",
       "      <td>gpt-3.5-turbo</td>\n",
       "      <td>4</td>\n",
       "      <td>1</td>\n",
       "      <td>0</td>\n",
       "      <td>0</td>\n",
       "      <td>0</td>\n",
       "      <td>0</td>\n",
       "      <td>0</td>\n",
       "      <td>0</td>\n",
       "      <td>0</td>\n",
       "      <td>0</td>\n",
       "    </tr>\n",
       "    <tr>\n",
       "      <th>2</th>\n",
       "      <td>gpt-4o</td>\n",
       "      <td>0</td>\n",
       "      <td>0</td>\n",
       "      <td>1</td>\n",
       "      <td>0</td>\n",
       "      <td>0</td>\n",
       "      <td>1</td>\n",
       "      <td>0</td>\n",
       "      <td>2</td>\n",
       "      <td>0</td>\n",
       "      <td>1</td>\n",
       "    </tr>\n",
       "  </tbody>\n",
       "</table>\n",
       "</div>"
      ],
      "text/plain": [
       "      Unnamed: 0  Unnamed: 1  \\\n",
       "0          gpt-4           0   \n",
       "1  gpt-3.5-turbo           4   \n",
       "2         gpt-4o           0   \n",
       "\n",
       "   Confusional Arousals with potential comorbidity of Tourette Syndrome and environmental influence of Irregular Sleep  \\\n",
       "0                                                  0                                                                     \n",
       "1                                                  1                                                                     \n",
       "2                                                  0                                                                     \n",
       "\n",
       "   Depression  Isolation  Major Depressive Disorder  OCD  Obsessive  \\\n",
       "0           0          1                          2    0          1   \n",
       "1           0          0                          0    0          0   \n",
       "2           1          0                          0    1          0   \n",
       "\n",
       "   Obsessive–Compulsive Disorder (OCD)  Procrastination and Avoidance  \\\n",
       "0                                    0                              1   \n",
       "1                                    0                              0   \n",
       "2                                    2                              0   \n",
       "\n",
       "   Stress or Lack of Structure  \n",
       "0                            0  \n",
       "1                            0  \n",
       "2                            1  "
      ]
     },
     "execution_count": 10,
     "metadata": {},
     "output_type": "execute_result"
    }
   ],
   "source": [
    "import pandas as pd\n",
    "df = pd.read_csv('./ranktable.csv')\n",
    "df"
   ]
  },
  {
   "cell_type": "code",
   "execution_count": 11,
   "metadata": {},
   "outputs": [],
   "source": [
    "votes = {'gpt-3.5-turbo': {'Behavioral Patterns': {'Candidate': 'Obsessive', 'Reasoning': \"Compulsive Disorder (OCD) - The individual describes intrusive thoughts and feelings of needing to perform certain routines that are distressing and impairing daily functioning. The pattern of repetitive behaviors and mental rituals aligns with OCD symptoms.\\n\\nClinical Relevance: Obsessive-Compulsive Disorder (OCD) - The presence of obsessions, compulsions, and the distress caused by these symptoms are consistent with the clinical criteria for OCD. The individual's description of anxiety, unwanted urges, and repetitive behaviors is indicative of OCD.\\n\\nEnvironmental Factors: Irregular Sleep-Wake Rhythm Disorder (ISWRD) - The individual's description of being unable to complete tasks during the day, feeling trapped inside their head, and experiencing difficulties with daily activities could be influenced by irregular sleep patterns and poor quality sleep associated with ISWRD.\\n\\nComorbidities: Tourette Syndrome - Given the mention of feeling like someone else is at the controls and the presence of involuntary movements or tics, there may be a potential comorbidity with Tourette Syndrome. Additionally, the individual's struggle with completing tasks and feeling trapped aligns with the neurodevelopmental aspects of Tourette Syndrome.\\n\\nFinal Diagnosis: Obsessive-Compulsive Disorder (OCD) with potential comorbidity of Tourette Syndrome and environmental influence from Irregular Sleep-Wake Rhythm Disorder (ISWRD). The individual's symptoms suggest a complex interplay between OCD behaviors, potential tics associated with Tourette Syndrome, and disrupted sleep patterns from ISWRD, impacting daily functioning and mental health.\"}, 'Clinical Relevance': {'Candidate': 'Obsessive', 'Reasoning': \"Compulsive Disorder (OCD) - The presence of obsessions, compulsions, and the distress caused by these symptoms are consistent with the clinical criteria for OCD. The individual's description of anxiety, unwanted urges, and repetitive behaviors is indicative of OCD.\\n\\nEnvironmental Factors: Irregular Sleep-Wake Rhythm Disorder (ISWRD) - The individual's description of being unable to complete tasks during the day, feeling trapped inside their head, and experiencing difficulties with daily activities could be influenced by irregular sleep patterns and poor quality sleep associated with ISWRD.\\n\\nComorbidities: Tourette Syndrome - Given the mention of feeling like someone else is at the controls and the presence of involuntary movements or tics, there may be a potential comorbidity with Tourette Syndrome. Additionally, the individual's struggle with completing tasks and feeling trapped aligns with the neurodevelopmental aspects of Tourette Syndrome.\\n\\nFinal Diagnosis: Obsessive-Compulsive Disorder (OCD) with potential comorbidity of Tourette Syndrome and environmental influence from Irregular Sleep-Wake Rhythm Disorder (ISWRD). The individual's symptoms suggest a complex interplay between OCD behaviors, potential tics associated with Tourette Syndrome, and disrupted sleep patterns from ISWRD, impacting daily functioning and mental health.\"}, 'Environmental Factors': {'Candidate': 'Irregular Sleep', 'Reasoning': \"Wake Rhythm Disorder (ISWRD) - The individual's description of being unable to complete tasks during the day, feeling trapped inside their head, and experiencing difficulties with daily activities could be influenced by irregular sleep patterns and poor quality sleep associated with ISWRD.\\n\\nComorbidities: Tourette Syndrome - Given the mention of feeling like someone else is at the controls and the presence of involuntary movements or tics, there may be a potential comorbidity with Tourette Syndrome. Additionally, the individual's struggle with completing tasks and feeling trapped aligns with the neurodevelopmental aspects of Tourette Syndrome.\\n\\nFinal Diagnosis: Obsessive-Compulsive Disorder (OCD) with potential comorbidity of Tourette Syndrome and environmental influence from Irregular Sleep-Wake Rhythm Disorder (ISWRD). The individual's symptoms suggest a complex interplay between OCD behaviors, potential tics associated with Tourette Syndrome, and disrupted sleep patterns from ISWRD, impacting daily functioning and mental health.\"}, 'Comorbidities': {'Candidate': 'Tourette Syndrome', 'Reasoning': \"Given the mention of feeling like someone else is at the controls and the presence of involuntary movements or tics, there may be a potential comorbidity with Tourette Syndrome. Additionally, the individual's struggle with completing tasks and feeling trapped aligns with the neurodevelopmental aspects of Tourette Syndrome.\\n\\nFinal Diagnosis: Obsessive-Compulsive Disorder (OCD) with potential comorbidity of Tourette Syndrome and environmental influence from Irregular Sleep-Wake Rhythm Disorder (ISWRD). The individual's symptoms suggest a complex interplay between OCD behaviors, potential tics associated with Tourette Syndrome, and disrupted sleep patterns from ISWRD, impacting daily functioning and mental health.\"}, 'Final Diagnosis': {'Diagnosis': 'Obsessive', 'Reasoning': \"Compulsive Disorder (OCD) with potential comorbidity of Tourette Syndrome and environmental influence from Irregular Sleep-Wake Rhythm Disorder (ISWRD). The individual's symptoms suggest a complex interplay between OCD behaviors, potential tics associated with Tourette Syndrome, and disrupted sleep patterns from ISWRD, impacting daily functioning and mental health.\"}}, 'gpt-4': {'Behavioral Patterns': {'Candidate': 'Obsessive', 'Reasoning': \"Compulsive Disorder (OCD) - The individual expresses a strong desire to perform certain tasks (like cleaning the house) but seems unable to act on these desires. This may indicate a form of compulsion, where the individual feels a strong need to perform an action but is unable to do so.\\n\\nClinical Relevance: Major Depressive Disorder (MDD) - The person's inability to perform tasks, even when they express a desire to do so, combined with self-loathing and negative self-perception, are indicative of depressive symptoms. \\n\\nEnvironmental Factors: Insufficient data - The provided information does not offer enough detail about the person's environment to make a determination. Factors such as work stress, family history, and social relationships can significantly impact mental health.\\n\\nComorbidities: Attention Deficit Hyperactivity Disorder (ADHD) - The individual's difficulty in initiating and following through with tasks could be indicative of ADHD. ADHD often coexists with other disorders such as MDD and OCD.\\n\\nFinal Diagnosis: Co-occurring Major Depressive Disorder and Obsessive-Compulsive Disorder, with potential ADHD - The individual's inability to initiate tasks, despite a strong desire to do so, suggests the presence of compulsions, a key symptom of OCD. The expressed self-loathing and negative self-perception indicate MDD. The difficulty in starting and completing tasks may also suggest ADHD, a common comorbidity with both MDD and OCD. A comprehensive clinical assessment is needed to confirm these diagnoses and rule out other potential disorders.\"}, 'Clinical Relevance': {'Candidate': 'Major Depressive Disorder (MDD)', 'Reasoning': \"The person's inability to perform tasks, even when they express a desire to do so, combined with self-loathing and negative self-perception, are indicative of depressive symptoms. \\n\\nEnvironmental Factors: Insufficient data - The provided information does not offer enough detail about the person's environment to make a determination. Factors such as work stress, family history, and social relationships can significantly impact mental health.\\n\\nComorbidities: Attention Deficit Hyperactivity Disorder (ADHD) - The individual's difficulty in initiating and following through with tasks could be indicative of ADHD. ADHD often coexists with other disorders such as MDD and OCD.\\n\\nFinal Diagnosis: Co-occurring Major Depressive Disorder and Obsessive-Compulsive Disorder, with potential ADHD - The individual's inability to initiate tasks, despite a strong desire to do so, suggests the presence of compulsions, a key symptom of OCD. The expressed self-loathing and negative self-perception indicate MDD. The difficulty in starting and completing tasks may also suggest ADHD, a common comorbidity with both MDD and OCD. A comprehensive clinical assessment is needed to confirm these diagnoses and rule out other potential disorders.\"}, 'Environmental Factors': {'Candidate': 'Insufficient data', 'Reasoning': \"The provided information does not offer enough detail about the person's environment to make a determination. Factors such as work stress, family history, and social relationships can significantly impact mental health.\\n\\nComorbidities: Attention Deficit Hyperactivity Disorder (ADHD) - The individual's difficulty in initiating and following through with tasks could be indicative of ADHD. ADHD often coexists with other disorders such as MDD and OCD.\\n\\nFinal Diagnosis: Co-occurring Major Depressive Disorder and Obsessive-Compulsive Disorder, with potential ADHD - The individual's inability to initiate tasks, despite a strong desire to do so, suggests the presence of compulsions, a key symptom of OCD. The expressed self-loathing and negative self-perception indicate MDD. The difficulty in starting and completing tasks may also suggest ADHD, a common comorbidity with both MDD and OCD. A comprehensive clinical assessment is needed to confirm these diagnoses and rule out other potential disorders.\"}, 'Comorbidities': {'Candidate': 'Attention Deficit Hyperactivity Disorder (ADHD)', 'Reasoning': \"The individual's difficulty in initiating and following through with tasks could be indicative of ADHD. ADHD often coexists with other disorders such as MDD and OCD.\\n\\nFinal Diagnosis: Co-occurring Major Depressive Disorder and Obsessive-Compulsive Disorder, with potential ADHD - The individual's inability to initiate tasks, despite a strong desire to do so, suggests the presence of compulsions, a key symptom of OCD. The expressed self-loathing and negative self-perception indicate MDD. The difficulty in starting and completing tasks may also suggest ADHD, a common comorbidity with both MDD and OCD. A comprehensive clinical assessment is needed to confirm these diagnoses and rule out other potential disorders.\"}, 'Final Diagnosis': {'Diagnosis': 'Co', 'Reasoning': \"occurring Major Depressive Disorder and Obsessive-Compulsive Disorder, with potential ADHD - The individual's inability to initiate tasks, despite a strong desire to do so, suggests the presence of compulsions, a key symptom of OCD. The expressed self-loathing and negative self-perception indicate MDD. The difficulty in starting and completing tasks may also suggest ADHD, a common comorbidity with both MDD and OCD. A comprehensive clinical assessment is needed to confirm these diagnoses and rule out other potential disorders.\"}}, 'gpt-4o': {'Behavioral Patterns': {'Candidate': 'Obsessive', 'Reasoning': 'Compulsive Disorder (OCD) - The individual describes a pattern of intrusive thoughts and an inability to perform tasks, which aligns with compulsive avoidance behaviors. The repeated \"nope\" response may reflect an internal struggle with compulsions and obsessions, characteristic of OCD.\\n\\nClinical Relevance: Obsessive-Compulsive Disorder (OCD) - The description of feeling \"trapped inside of a cage\" and self-directed frustration suggests significant distress and impairment in daily functioning, which are key diagnostic criteria for OCD.\\n\\nEnvironmental Factors: Stress and Environmental Demands - The individual\\'s environment may include expectations to complete household tasks, contributing to stress and exacerbating symptoms of OCD or other anxiety-related disorders.\\n\\nComorbidities: Major Depressive Disorder (MDD) - The self-directed hate and potential lack of motivation to perform daily tasks suggest possible depressive symptoms, which are commonly comorbid with OCD.\\n\\nFinal Diagnosis: Obsessive-Compulsive Disorder (OCD) with Comorbid Major Depressive Disorder (MDD) - The individual exhibits symptoms consistent with OCD, including intrusive thoughts and avoidance behaviors, alongside depressive symptoms such as self-loathing and impaired motivation.'}, 'Clinical Relevance': {'Candidate': 'Obsessive', 'Reasoning': 'Compulsive Disorder (OCD) - The description of feeling \"trapped inside of a cage\" and self-directed frustration suggests significant distress and impairment in daily functioning, which are key diagnostic criteria for OCD.\\n\\nEnvironmental Factors: Stress and Environmental Demands - The individual\\'s environment may include expectations to complete household tasks, contributing to stress and exacerbating symptoms of OCD or other anxiety-related disorders.\\n\\nComorbidities: Major Depressive Disorder (MDD) - The self-directed hate and potential lack of motivation to perform daily tasks suggest possible depressive symptoms, which are commonly comorbid with OCD.\\n\\nFinal Diagnosis: Obsessive-Compulsive Disorder (OCD) with Comorbid Major Depressive Disorder (MDD) - The individual exhibits symptoms consistent with OCD, including intrusive thoughts and avoidance behaviors, alongside depressive symptoms such as self-loathing and impaired motivation.'}, 'Environmental Factors': {'Candidate': 'Stress and Environmental Demands', 'Reasoning': \"The individual's environment may include expectations to complete household tasks, contributing to stress and exacerbating symptoms of OCD or other anxiety-related disorders.\\n\\nComorbidities: Major Depressive Disorder (MDD) - The self-directed hate and potential lack of motivation to perform daily tasks suggest possible depressive symptoms, which are commonly comorbid with OCD.\\n\\nFinal Diagnosis: Obsessive-Compulsive Disorder (OCD) with Comorbid Major Depressive Disorder (MDD) - The individual exhibits symptoms consistent with OCD, including intrusive thoughts and avoidance behaviors, alongside depressive symptoms such as self-loathing and impaired motivation.\"}, 'Comorbidities': {'Candidate': 'Major Depressive Disorder (MDD)', 'Reasoning': 'The self-directed hate and potential lack of motivation to perform daily tasks suggest possible depressive symptoms, which are commonly comorbid with OCD.\\n\\nFinal Diagnosis: Obsessive-Compulsive Disorder (OCD) with Comorbid Major Depressive Disorder (MDD) - The individual exhibits symptoms consistent with OCD, including intrusive thoughts and avoidance behaviors, alongside depressive symptoms such as self-loathing and impaired motivation.'}, 'Final Diagnosis': {'Diagnosis': 'Obsessive', 'Reasoning': 'Compulsive Disorder (OCD) with Comorbid Major Depressive Disorder (MDD) - The individual exhibits symptoms consistent with OCD, including intrusive thoughts and avoidance behaviors, alongside depressive symptoms such as self-loathing and impaired motivation.'}}}"
   ]
  },
  {
   "cell_type": "code",
   "execution_count": 23,
   "metadata": {},
   "outputs": [
    {
     "name": "stdout",
     "output_type": "stream",
     "text": [
      "Model: gpt-3.5-turbo\n",
      "  Behavioral Patterns: Obsessive\n",
      "  Clinical Relevance: Obsessive\n",
      "  Environmental Factors: Irregular Sleep\n",
      "  Comorbidities: Tourette Syndrome\n",
      "  Final Diagnosis: Obsessive\n",
      "\n",
      "Model: gpt-4\n",
      "  Behavioral Patterns: Obsessive\n",
      "  Clinical Relevance: Major Depressive Disorder (MDD)\n",
      "  Environmental Factors: Insufficient data\n",
      "  Comorbidities: Attention Deficit Hyperactivity Disorder (ADHD)\n",
      "  Final Diagnosis: Co\n",
      "\n",
      "Model: gpt-4o\n",
      "  Behavioral Patterns: Obsessive\n",
      "  Clinical Relevance: Obsessive\n",
      "  Environmental Factors: Stress and Environmental Demands\n",
      "  Comorbidities: Major Depressive Disorder (MDD)\n",
      "  Final Diagnosis: Obsessive\n",
      "\n"
     ]
    }
   ],
   "source": [
    "df = pd.DataFrame\n",
    "for model in list(votes.keys()):\n",
    "    print(f\"Model: {model}\")\n",
    "    focus_order = [\"Behavioral Patterns\", \"Clinical Relevance\", \"Environmental Factors\", \"Comorbidities\", \"Final Diagnosis\"]\n",
    "    for focus in focus_order:\n",
    "        diagnosis = votes[model][focus][\"Candidate\"] if focus != \"Final Diagnosis\" else votes[model][focus][\"Diagnosis\"]\n",
    "        print(f\"  {focus}: {diagnosis}\")\n",
    "    print()  # Add a blank line for better separation between models"
   ]
  },
  {
   "cell_type": "code",
   "execution_count": 31,
   "metadata": {},
   "outputs": [
    {
     "name": "stdout",
     "output_type": "stream",
     "text": [
      "                                        Unnamed: 0  gpt-4o  gpt-3.5-turbo  \\\n",
      "0  attention-deficit/hyperactivity disorder (adhd)       5              0   \n",
      "1                        major depressive disorder       4              0   \n",
      "2                    obsessive-compulsive disorder       3              5   \n",
      "3                                         insomnia       2              4   \n",
      "\n",
      "   gpt-4  Votes  \n",
      "0      0      5  \n",
      "1      5      9  \n",
      "2      4     12  \n",
      "3      2      8  \n"
     ]
    }
   ],
   "source": [
    "print(pd.read_csv('ranktable.csv'))"
   ]
  },
  {
   "cell_type": "code",
   "execution_count": null,
   "metadata": {},
   "outputs": [],
   "source": []
  }
 ],
 "metadata": {
  "kernelspec": {
   "display_name": ".venv",
   "language": "python",
   "name": "python3"
  },
  "language_info": {
   "codemirror_mode": {
    "name": "ipython",
    "version": 3
   },
   "file_extension": ".py",
   "mimetype": "text/x-python",
   "name": "python",
   "nbconvert_exporter": "python",
   "pygments_lexer": "ipython3",
   "version": "3.9.6"
  }
 },
 "nbformat": 4,
 "nbformat_minor": 2
}
